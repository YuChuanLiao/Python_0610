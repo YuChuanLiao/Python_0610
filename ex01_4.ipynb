{
 "cells": [
  {
   "attachments": {},
   "cell_type": "markdown",
   "metadata": {},
   "source": [
    "四捨五入"
   ]
  },
  {
   "attachments": {},
   "cell_type": "markdown",
   "metadata": {},
   "source": [
    "1. Banker's Rounding"
   ]
  },
  {
   "cell_type": "code",
   "execution_count": 5,
   "metadata": {},
   "outputs": [
    {
     "name": "stdout",
     "output_type": "stream",
     "text": [
      "對A做四捨五入的值： 3\n",
      "對B做四捨五入的值： 4\n"
     ]
    }
   ],
   "source": [
    "a = 3.3\n",
    "b = 4.5\n",
    "\n",
    "print('對A做四捨五入的值：', round(a))\n",
    "print('對B做四捨五入的值：', round(b))"
   ]
  },
  {
   "attachments": {},
   "cell_type": "markdown",
   "metadata": {},
   "source": [
    "2.數學上的四捨五入"
   ]
  },
  {
   "cell_type": "code",
   "execution_count": 6,
   "metadata": {},
   "outputs": [
    {
     "name": "stdout",
     "output_type": "stream",
     "text": [
      "對A做四捨五入的值： 3\n",
      "對B做四捨五入的值： 5\n"
     ]
    }
   ],
   "source": [
    "import math\n",
    "print('對A做四捨五入的值：', math.floor(a))\n",
    "print('對B做四捨五入的值：', math.ceil(b))"
   ]
  }
 ],
 "metadata": {
  "kernelspec": {
   "display_name": "Python 3",
   "language": "python",
   "name": "python3"
  },
  "language_info": {
   "codemirror_mode": {
    "name": "ipython",
    "version": 3
   },
   "file_extension": ".py",
   "mimetype": "text/x-python",
   "name": "python",
   "nbconvert_exporter": "python",
   "pygments_lexer": "ipython3",
   "version": "3.11.4"
  },
  "orig_nbformat": 4
 },
 "nbformat": 4,
 "nbformat_minor": 2
}
